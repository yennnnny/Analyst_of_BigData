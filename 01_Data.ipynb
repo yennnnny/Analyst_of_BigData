{
 "cells": [
  {
   "cell_type": "markdown",
   "metadata": {},
   "source": [
    "## [1] 데이터 입/출력"
   ]
  },
  {
   "cell_type": "code",
   "execution_count": null,
   "metadata": {},
   "outputs": [],
   "source": [
    "# 1) 데이터 읽기\n",
    "df = pd.read_csv('C:/Users/Administrator/Documents/Python/test_csv_file.csv)\n",
    "    ## 탭구분(.txt) -> sep='|', sep='\\t'\n",
    "    ## 한글 인코딩 파일 -> encoding =  euc-kr, utf-8, cp949, utf-8-si\n",
    "\n",
    "# 2) 데이터 출력\n",
    "df.head()\n",
    "df.tail()\n",
    "                   \n",
    "# 3) 데이터 저장\n",
    "df.to_csv(\"파일이름.csv\", index = False)"
   ]
  },
  {
   "cell_type": "markdown",
   "metadata": {},
   "source": [
    "## [2] 데이터 크기"
   ]
  },
  {
   "cell_type": "code",
   "execution_count": null,
   "metadata": {},
   "outputs": [],
   "source": [
    "df.shape  # 데이터 차원\n",
    "df.size   # 데이터 개수\n",
    "\n",
    "# 데이터 행 개수(raw 수)\n",
    "len(df)\n",
    "len(df.index)\n",
    "df.shape[0]\n",
    "df.count()  # Null 값이 아닌 행\n",
    "\n",
    "# 데이터 열 개수(컬럼 수)\n",
    "len(df.columns)\n",
    "df.shape[1]"
   ]
  },
  {
   "cell_type": "markdown",
   "metadata": {},
   "source": [
    "## [3] 컬럼명"
   ]
  },
  {
   "cell_type": "code",
   "execution_count": null,
   "metadata": {},
   "outputs": [],
   "source": [
    "df.columns\n",
    "list(df)\n",
    "df.columns[0]\n",
    "\n",
    "# 컬럼명 변경\n",
    "df.rename(columns = {\"old_1\": \"new_1\", \"old_2\": \"new_2\"}, inplace=True)\n",
    "df.columns = [\"new_1\", \"new_2\"]"
   ]
  },
  {
   "cell_type": "markdown",
   "metadata": {},
   "source": [
    "## [4] 타입"
   ]
  },
  {
   "cell_type": "code",
   "execution_count": null,
   "metadata": {},
   "outputs": [],
   "source": [
    "df.dtypes\n",
    "type(df[\"A\"])\n",
    "\n",
    "# 특정위치(컬럼) 타입 확인(ex : 6번째 컬럼의 데이터 확인)\n",
    "df.dtypes[5] \n",
    "df.iloc[:,5].dtype\n",
    "\n",
    "# 특정 타입의 데이터 추출 -- object, int. float\n",
    "df.select_dtypes(include = int)  # 특정 타입 포함 데이터\n",
    "df.select_dtypes(exclude = int)  # 특정 타입 제외 데이터\n",
    "df.select_dtypes(exclude = int).columns  # 특정 타입 포함 컬럼명\n",
    "\n",
    "# 타입 변경\n",
    "df.astype({'A':'int'})"
   ]
  },
  {
   "cell_type": "markdown",
   "metadata": {},
   "source": [
    "## [5] 인덱스"
   ]
  },
  {
   "cell_type": "code",
   "execution_count": null,
   "metadata": {},
   "outputs": [],
   "source": [
    "df.index\n",
    "\n",
    "# 특정 인덱스(위치)의 값 추출 \n",
    "df.iloc[3,5]  # df.iloc[행,열]\n",
    "df.loc[3][5]  # df.loc[행][열]\n",
    "\n",
    "df.iloc[a:b:c, :]  #  a~(b-1) 째 열을 c 간격으로 추출함\n",
    "df.iloc[:, a:b:c]  #  a~(b-1) 째 행을 c 간격으로 추출함\n",
    "\n",
    "# 인덱스 -> 컬럼 : Series--> DataFrame\n",
    "df.reset_index( )\n",
    "df[\"일강수량\"].reset_index( )"
   ]
  },
  {
   "cell_type": "markdown",
   "metadata": {},
   "source": [
    "## [6] 통계값"
   ]
  },
  {
   "cell_type": "code",
   "execution_count": null,
   "metadata": {},
   "outputs": [],
   "source": [
    "df.describe()  # 데이터 수(행), 평균, 표준편차, 최소/최대 값, 사분위수 범위\n",
    "df['A'].describe()\n",
    "df..describe()['A']\n",
    "\n",
    "# 개별 통계값\n",
    "df['A'].count()    # 데이터 수(행)\n",
    "df['A'].mean()     # 평균\n",
    "df['A'].std()      # 표준편차\n",
    "df['A'].var()      # 분산\n",
    "df['A'].median()   # 중앙값\n",
    "df['A'].min()      # 최소값\n",
    "df['A'].max()      # 최대값\n",
    "df['A'].quantile() # 사분위수\n",
    "df['A'].quantile(0.n)  # 하위 (n*100)%  값\n",
    "df['A'].quantile(0.75) - df['A'].quantile(0.25)  # 사분위값\n",
    "df['A'].mode()     # 최빈값\n",
    "\n",
    "# 다중 통계값\n",
    "df.agg(['mean','var','max','min'])"
   ]
  },
  {
   "cell_type": "markdown",
   "metadata": {},
   "source": [
    "## [7] 결측치"
   ]
  },
  {
   "cell_type": "code",
   "execution_count": null,
   "metadata": {},
   "outputs": [],
   "source": [
    "df.isnull()\n",
    "df.isnull().sum()  # 컬럼별 결측치 개수\n",
    "\n",
    "# null 여부에 따른 데이터 추출\n",
    "df[df['A'].isnull() == True]  # null 포함 데이터\n",
    "df[df['A'].isnull() == False]  # null 제외 데이터\n",
    "\n",
    "# null 값 제거\n",
    "df.dropna(axis=0)  # 결측치가 포함된 행 제거 \n",
    "df.dropna(axis=1)  # 결측치가 포함된 열 제거\n",
    "\n",
    "# null 값  채우기\n",
    "df.fillna(0)\n",
    "df.fillna(df.mean())         # 각 열의 평균 값으로 결측치 채우기\n",
    "df.fillna(method = 'bfill')  # 앞 행의 값으로 채우기\n",
    "df.fillna(method = 'ffill')  # 뒤 행의 값으로 채우기"
   ]
  },
  {
   "cell_type": "markdown",
   "metadata": {},
   "source": [
    "## [8] unique / duplicate / value"
   ]
  },
  {
   "cell_type": "code",
   "execution_count": null,
   "metadata": {},
   "outputs": [],
   "source": [
    "# 고유값 확인\n",
    "df['A'].unique()\n",
    "df['A'].value_counts()  # 항목 별 개수(sort = True : 오름차순, sort = False : 내림차순)\n",
    "sort = True\n",
    "# 중복제거\n",
    "df.drop_duplicates()               # 첫번째 케이스만 남김\n",
    "df.drop_duplicates(keep = 'last')  # 마지막 케이스만 남김"
   ]
  },
  {
   "cell_type": "markdown",
   "metadata": {},
   "source": [
    "## [9] 정렬"
   ]
  },
  {
   "cell_type": "code",
   "execution_count": null,
   "metadata": {},
   "outputs": [],
   "source": [
    "# 인덱스 기반\n",
    "df.sort_index()  # 인덱스 기반 오름차순 정렬\n",
    "df.sort_index(axis=1)  # 컬럼명을 정렬(데이터 정렬X)\n",
    "\n",
    "# 특정 컬럼 기준 정렬\n",
    "df.sort_values(['A'], ascending = True)  # 오름차순\n",
    "df.sort_values(by = ['A'], ascending = False)  # 내림차순"
   ]
  },
  {
   "cell_type": "markdown",
   "metadata": {},
   "source": [
    "## [10] 문자형 컬럼"
   ]
  },
  {
   "cell_type": "code",
   "execution_count": null,
   "metadata": {},
   "outputs": [],
   "source": [
    "# 특정 값을 가진 데이터 추출\n",
    "df[df['A'].isin(['0', '1'])]\n",
    "\n",
    "# 특정 글자를 포함한 값을 가진 데이터 추출\n",
    "df.loc[df['A'].str.contains('1')]   # 포함\n",
    "df.loc[~df['A'].str.contains('1')]  # 미포함\n",
    "\n",
    "# 특정 글자로 시작하는 데이터 추출\n",
    "df[df['A'].str.startswith('0')]\n",
    "\n",
    "# 데이터 별 문자 길이\n",
    "df['A'].str.len()\n",
    "\n",
    "# 문자형 컬럼 분할\n",
    "df['A'].str.split()     # 공백으로 분할(분할된 값들이 리스트로 생성됨)\n",
    "df['A'].str.split('-')  # 특정구분자로 분할\n",
    "df['A'].str.split().str[0]  # 분할된 데이터의 첫 번째 값\n",
    "\n",
    "df['A'].str[1:]  # 특정 위치 부터 문자를 읽음(ex : 첫번째 문자를 제거)\n",
    "\n",
    "# 문자형 컬럼 결합\n",
    "df['A'].str.cat(df['B'])\n",
    "df['A'].str.cat(df['C'].astype(str))  # 문자형이 아닌 컬럼과 결함\n",
    "df['A'].str.cat(df['B'], sep='AND')  # 컬럼간 결합에 특정 문자를 추가하는 경우\n",
    "df['A'] + 'AND' + df['B']\n",
    "\n",
    "# 대/소문자 변경\n",
    "df['A'].str.lower()\n",
    "df['A'].str.upper()"
   ]
  },
  {
   "cell_type": "markdown",
   "metadata": {},
   "source": [
    "## [11] groupby"
   ]
  },
  {
   "cell_type": "code",
   "execution_count": null,
   "metadata": {},
   "outputs": [],
   "source": [
    "df.groupby('A').size()  # A 기준 그룹 생성(항목 = index)\n",
    "df.groupby(['A'], as_index = False).size()  # DataFrame(항목 = column)        \n",
    "\n",
    "\n",
    "# 그룹 생성 및 통계값 확인\n",
    "df.groupby('A').agg(['mean','var','max','min'])  # A값에 따른 컬럼 별  평균, 분산, 최대, 최소값\n",
    "df.groupby('A')['B'].mean()  # A,B 값에 따른 C값의 평균\n",
    "\n",
    "df.groupby(['A','B']).size()  # A,B 기준 그룹 생성\n",
    "df.groupby(['A','B']).size().groupby(['A']).max()  # A에 따른 B값 중 count 최대값"
   ]
  },
  {
   "cell_type": "markdown",
   "metadata": {},
   "source": [
    "## [12] 날짜형 컬럼"
   ]
  },
  {
   "cell_type": "code",
   "execution_count": null,
   "metadata": {},
   "outputs": [],
   "source": [
    "df['A'] = pd.to_datetime(df['A'])\n",
    "\n",
    "df['A'].dt.date         # YYYY-MM-DD(문자)\n",
    "df['A'].dt.year         # 연(4자리숫자)\n",
    "df['A'].dt.month        # 월(숫자)\n",
    "df['A'].dt.month_name() # 월(문자)\n",
    "df['A'].dt.day          # 일(숫자)\n",
    "df['A'].dt.day_name()   # 요일\n",
    "df['A'].dt.time         # HH:MM:SS(문자)\n",
    "df['A'].dt.hour         # 시(숫자)\n",
    "df['A'].dt.minute       # 분(숫자)\n",
    "df['A'].dt.second       # 초(숫자)\n",
    "\n",
    "df['A'].dt.quarter       # 분기(숫자)\n",
    "df['A'].dt.weekday_name  # 요일이름(문자) (=day_name())\n",
    "df['A'].dt.weekday       # 요일숫자(0-월, 1-화) (=dayofweek)\n",
    "df['A'].dt.weekofyear    # 연 기준 몇주째(숫자) (=week)\n",
    "df['A'].dt.dayofyear     # 연 기준 몇일째(숫자)\n",
    "df['A'].dt.days_in_month # 월 일수(숫자) (=daysinmonth)\n",
    "\n",
    "# 날짜 비교\n",
    "df[df['A'] >= pd.to_datetime('2021-10-03')]\n",
    "df[df['A'].dt.strftime('%Y-%m-%d %H') == '2021-10-03 03']\n",
    "df[(df[\"A\"] >= pd.to_datetime(\"2021-11-01 00:00:00\")) & (df['A'] <= pd.to_datetime(\"2021-11-01 15:00:00\"))]"
   ]
  },
  {
   "cell_type": "markdown",
   "metadata": {},
   "source": [
    "## [13] pivot_table"
   ]
  },
  {
   "cell_type": "code",
   "execution_count": null,
   "metadata": {},
   "outputs": [],
   "source": [
    "group = df.groupby(['A', 'B']).size()\n",
    "group.pivot(index='A',columns='B')  # B(column) 별 A(index) 값"
   ]
  },
  {
   "cell_type": "markdown",
   "metadata": {},
   "source": [
    "## [14] merge / concat / append"
   ]
  },
  {
   "cell_type": "code",
   "execution_count": null,
   "metadata": {},
   "outputs": [],
   "source": [
    "# merge\n",
    "pd.merge(df_A, df_B)"
   ]
  },
  {
   "cell_type": "markdown",
   "metadata": {},
   "source": [
    "## [15] 상관계수"
   ]
  },
  {
   "cell_type": "code",
   "execution_count": null,
   "metadata": {},
   "outputs": [],
   "source": [
    "df.corr()  # 상관계수 행렬\n",
    "df.corr().unstack().to_frame('crr').reset_index()  # [항목1, 항목2, 상관계수값] 데이터프레임 생성"
   ]
  },
  {
   "cell_type": "markdown",
   "metadata": {},
   "source": [
    "## [16] 함수 확인하기"
   ]
  },
  {
   "cell_type": "code",
   "execution_count": null,
   "metadata": {},
   "outputs": [],
   "source": [
    "# dir을 통해 사용 가능한 함수 확인\n",
    "import pandas as pd\n",
    "print(dir(pd))\n",
    "\n",
    "# 판다스 데이터 프레임에서 할 수 있는 것들은?\n",
    "print(dir(pd.DataFrame))\n",
    "\n",
    "#help을 통해 사용법 확인\n",
    "print(help(pd.DataFrame.drop))\n",
    "\n",
    "# sklearn에서 사용가능한 함수 확인 \n",
    "import sklearn\n",
    "print(sklearn.__all__)\n",
    "\n",
    "# 전처리 무엇을 할 수 있지?\n",
    "import sklearn.preprocessing\n",
    "print(sklearn.preprocessing.__all__)"
   ]
  },
  {
   "cell_type": "markdown",
   "metadata": {},
   "source": [
    "## 기타예제"
   ]
  },
  {
   "cell_type": "code",
   "execution_count": null,
   "metadata": {},
   "outputs": [],
   "source": [
    "# 나이 -> 연령대\n",
    "연령대 = (df['Age'] // 10)*10\n",
    "\n",
    "# A 항목별 B 수치의 하위 5개 항목의 B 값 평균을 구하라\n",
    "df.groupby('A').tail(5).groupby('A').mean()[['B']]\n",
    "\n",
    "# 새로운 열을 추가할 경우\n",
    "df.assign(컬럼명 = '컬럼내용')  # df.assign(test = 0) : 'test'라는 컬럼이 생성되고 내용은 모두 0으로 채워짐"
   ]
  }
 ],
 "metadata": {
  "kernelspec": {
   "display_name": "Python 3",
   "language": "python",
   "name": "python3"
  },
  "language_info": {
   "codemirror_mode": {
    "name": "ipython",
    "version": 3
   },
   "file_extension": ".py",
   "mimetype": "text/x-python",
   "name": "python",
   "nbconvert_exporter": "python",
   "pygments_lexer": "ipython3",
   "version": "3.8.5"
  }
 },
 "nbformat": 4,
 "nbformat_minor": 4
}
