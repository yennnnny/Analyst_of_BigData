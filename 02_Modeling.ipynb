{
 "cells": [
  {
   "cell_type": "markdown",
   "metadata": {},
   "source": [
    "## [1] train / test set"
   ]
  },
  {
   "cell_type": "code",
   "execution_count": null,
   "metadata": {},
   "outputs": [],
   "source": [
    "from sklearn.model_selection import train_test_split"
   ]
  },
  {
   "cell_type": "code",
   "execution_count": null,
   "metadata": {},
   "outputs": [],
   "source": [
    "train_test_split(X, y, test_size, train_size, random_state, shuffle, stratify)\n",
    "    # arrays : 분할 대상 데이터\n",
    "    # test_size / train_size : 분할 비율\n",
    "    # shuffle : 순차적 문할여부(무작위 = True, 순차적 = False)\n",
    "    # stratify : 모수 데이터 항목 비율을 샘플데이터에서도 유지, list 값입력"
   ]
  },
  {
   "cell_type": "code",
   "execution_count": null,
   "metadata": {},
   "outputs": [],
   "source": [
    "# 방안1)\n",
    "X = df.drop(columns=[target])\n",
    "y = df[[key, target]]\n",
    "X_train, X_test, y_train, y_test = train_test_split(X, y, test_size, train_size, random_state, shuffle, stratify)\n",
    "\n",
    "\n",
    "# 방안2)\n",
    "X_train, X_test = train_test_split(df, test_size, train_size, random_state, shuffle, stratify)\n",
    "\n",
    "X_train = X_train.drop(columns=[target])\n",
    "y_train = X_train[[key, target]]\n",
    "X_test = X_test.drop(columns=[target])\n",
    "y_test = X_test[[key, target]]"
   ]
  },
  {
   "cell_type": "markdown",
   "metadata": {},
   "source": [
    "## [2] 명목형 변수 전처리 : Encoding"
   ]
  },
  {
   "cell_type": "markdown",
   "metadata": {},
   "source": [
    "### 1) one_hot encoding : 0 or 1"
   ]
  },
  {
   "cell_type": "code",
   "execution_count": null,
   "metadata": {},
   "outputs": [],
   "source": [
    "# 범주형 데이터 -> 가변수화\n",
    "pd.get_dummies(df, columns = [], dummy_na = True, sparse=False, drop_first=False, dtype=None)\n",
    "    # columns = [] : 특정 컬럼만 인코딩 할 경우\n",
    "    # dummy_na : 결측값 인코딩 여부 (default = False, True : 결측값 표시 컬럼도 생성됨)\n",
    "    # 데이터 항목 수 + 1(dymmy_na = True) 만큼 컬럼이 생성되며, 각 컬럼은 0 또는 1의 값을 가짐"
   ]
  },
  {
   "cell_type": "code",
   "execution_count": 41,
   "metadata": {},
   "outputs": [
    {
     "data": {
      "text/html": [
       "<div>\n",
       "<style scoped>\n",
       "    .dataframe tbody tr th:only-of-type {\n",
       "        vertical-align: middle;\n",
       "    }\n",
       "\n",
       "    .dataframe tbody tr th {\n",
       "        vertical-align: top;\n",
       "    }\n",
       "\n",
       "    .dataframe thead th {\n",
       "        text-align: right;\n",
       "    }\n",
       "</style>\n",
       "<table border=\"1\" class=\"dataframe\">\n",
       "  <thead>\n",
       "    <tr style=\"text-align: right;\">\n",
       "      <th></th>\n",
       "      <th>과일_</th>\n",
       "      <th>과일_딸기</th>\n",
       "      <th>과일_배</th>\n",
       "      <th>과일_사과</th>\n",
       "      <th>과일_nan</th>\n",
       "    </tr>\n",
       "  </thead>\n",
       "  <tbody>\n",
       "    <tr>\n",
       "      <th>0</th>\n",
       "      <td>0</td>\n",
       "      <td>0</td>\n",
       "      <td>0</td>\n",
       "      <td>1</td>\n",
       "      <td>0</td>\n",
       "    </tr>\n",
       "    <tr>\n",
       "      <th>1</th>\n",
       "      <td>0</td>\n",
       "      <td>0</td>\n",
       "      <td>1</td>\n",
       "      <td>0</td>\n",
       "      <td>0</td>\n",
       "    </tr>\n",
       "    <tr>\n",
       "      <th>2</th>\n",
       "      <td>0</td>\n",
       "      <td>1</td>\n",
       "      <td>0</td>\n",
       "      <td>0</td>\n",
       "      <td>0</td>\n",
       "    </tr>\n",
       "    <tr>\n",
       "      <th>3</th>\n",
       "      <td>1</td>\n",
       "      <td>0</td>\n",
       "      <td>0</td>\n",
       "      <td>0</td>\n",
       "      <td>0</td>\n",
       "    </tr>\n",
       "  </tbody>\n",
       "</table>\n",
       "</div>"
      ],
      "text/plain": [
       "   과일_  과일_딸기  과일_배  과일_사과  과일_nan\n",
       "0    0      0     0      1       0\n",
       "1    0      0     1      0       0\n",
       "2    0      1     0      0       0\n",
       "3    1      0     0      0       0"
      ]
     },
     "execution_count": 41,
     "metadata": {},
     "output_type": "execute_result"
    }
   ],
   "source": [
    "## 예시\n",
    "df = pd.DataFrame({'과일' : [\"사과\", \"배\", \"딸기\", \"\"]})\n",
    "pd.get_dummies(df, dummy_na = True)"
   ]
  },
  {
   "cell_type": "markdown",
   "metadata": {},
   "source": [
    "### 2) Label encoding : 0~n"
   ]
  },
  {
   "cell_type": "code",
   "execution_count": null,
   "metadata": {},
   "outputs": [],
   "source": [
    "from sklearn.preprocessing import LabelEncoder"
   ]
  },
  {
   "cell_type": "code",
   "execution_count": null,
   "metadata": {},
   "outputs": [],
   "source": [
    "## 방안1) fit 한 모델을 새로 정의 하여 원하는 데이터에 transform 진행, 동일한 모델로 피팅가능\n",
    "# fitting model\n",
    "le = LabelEncoder()\n",
    "le = le.fit(train['col'])   #train['col']을 fit\n",
    "\n",
    "# encoding\n",
    "train['col'] = le.transform(train['col'])   #train['col']에 따라 encoding\n",
    "test['col'] = le.transform(test['col'])   #train['col']에 따라 encoding\n",
    "\n",
    "\n",
    "## 방안2) fit과 transform을 동시에 진행, 동일한 모델로 피팅 할 수 없음\n",
    "le = LabelEncoder()\n",
    "train['col'] = le.fit_transform(train['col'])\n",
    "test['col'] = le.fit_transform(test['col'])"
   ]
  },
  {
   "cell_type": "markdown",
   "metadata": {},
   "source": [
    "### 3) cat.codes : 0~n"
   ]
  },
  {
   "cell_type": "code",
   "execution_count": null,
   "metadata": {},
   "outputs": [],
   "source": [
    "# .astype('category').cat.codes : 한컬럼씩만 변경가능\n",
    "df['A'].astype('category').cat.codes\n",
    "# 특정 컬럼을 수치형으로 변환, 0~(데이터 항목 개수) 만큼 넘버링됨"
   ]
  },
  {
   "cell_type": "code",
   "execution_count": 43,
   "metadata": {},
   "outputs": [],
   "source": [
    "## 예시\n",
    "df = pd.DataFrame({'과일' : [\"사과\", \"배\", \"딸기\", \"\"]})\n",
    "df['과일'] = df['과일'].astype('category').cat.codes"
   ]
  },
  {
   "cell_type": "markdown",
   "metadata": {},
   "source": [
    "## [4] 수지형 변수 전처리 : Scaler"
   ]
  },
  {
   "cell_type": "markdown",
   "metadata": {},
   "source": [
    "### 1) StandardScaler : 표준화 (평균 = 0, 표준편차 = 1)"
   ]
  },
  {
   "cell_type": "code",
   "execution_count": null,
   "metadata": {},
   "outputs": [],
   "source": [
    "from sklearn.preprocessing import StandardScaler"
   ]
  },
  {
   "cell_type": "code",
   "execution_count": null,
   "metadata": {},
   "outputs": [],
   "source": [
    "# fit model\n",
    "scaler = StandardScaler()\n",
    "scaler = scaler.fit(X_train)\n",
    "\n",
    "# transform\n",
    "X_train = scaler.transform(X_train)\n",
    "X_test = scaler.transform(X_test)"
   ]
  },
  {
   "cell_type": "markdown",
   "metadata": {},
   "source": [
    "### 2) MinMaxScaler : 정규화 (최대값 = 1, 최소값 = 0)"
   ]
  },
  {
   "cell_type": "code",
   "execution_count": null,
   "metadata": {},
   "outputs": [],
   "source": [
    "from sklearn.preprocessing import MinMaxScaler"
   ]
  },
  {
   "cell_type": "code",
   "execution_count": null,
   "metadata": {},
   "outputs": [],
   "source": [
    "# fit model\n",
    "scaler = MinMaxScaler()\n",
    "scaler = scaler.fit(X_train)\n",
    "\n",
    "# transform\n",
    "X_train = scaler.transform(X_train)\n",
    "X_test = scaler.transform(X_test)"
   ]
  },
  {
   "cell_type": "markdown",
   "metadata": {},
   "source": [
    "### 3) 기타"
   ]
  },
  {
   "cell_type": "code",
   "execution_count": null,
   "metadata": {},
   "outputs": [],
   "source": [
    "from sklearn.preprocessing import RobusterScaler\n",
    "    # 중앙값 = 0 / IQR(1분위(25%) ~ 3분위(75%)) = 1\n",
    "    # 이상치 영향 최소화"
   ]
  },
  {
   "cell_type": "code",
   "execution_count": null,
   "metadata": {},
   "outputs": [],
   "source": [
    "from sklearn.preprocessing import MaxAbsScaler\n",
    "    # 0을 기준으로 절대값이 가장 큰 수가 1또는 -1이 되도록 변환\n",
    "    # 이상치 영향 최소화"
   ]
  },
  {
   "cell_type": "markdown",
   "metadata": {},
   "source": [
    "## [4] 수치형 변수 전처리 : SimpleImputer(결측치 처리)"
   ]
  },
  {
   "cell_type": "code",
   "execution_count": 58,
   "metadata": {},
   "outputs": [],
   "source": [
    "from sklearn.impute import SimpleImputer"
   ]
  },
  {
   "cell_type": "code",
   "execution_count": null,
   "metadata": {},
   "outputs": [],
   "source": [
    "imputer = SimpleImputer(missing_values = nan, strategy = 'mean', fill_value=None, verbose=0, copy=True, add_indicator=False)\n",
    "    # 특정 컬럼을 수치형으로 변환, 0~(데이터 항목 개수) 만큼 넘버링됨missing_values : 빈 값이라고 인식할 값(default = nan)\n",
    "    # strategy : 'mean', 'median', most_frequent(최빈값), constant(사용자지정, fill_value 필수지정)\n",
    "    # fill_value : strategy가 constant 인 경우 대체할 값 정의\n",
    "    # copy : 디폴트 True, True인 경우 복사본을 만들어서 채워주고 False로 지정하면 원 DataFrame에 채움\n",
    "    # add_indicator : 디폴트 False, 원래 비어있던 값인지 아닌지를 구분하는 구분자 컬럼 추가 여부"
   ]
  },
  {
   "cell_type": "code",
   "execution_count": null,
   "metadata": {},
   "outputs": [],
   "source": [
    "# fit model\n",
    "imputer = SimpleImputer()\n",
    "imputer = imputer.fit(train[col])\n",
    "\n",
    "# transform\n",
    "train[col] = imputer.transform(train[col])\n",
    "test[col] = imputer.transform(test[col])"
   ]
  },
  {
   "cell_type": "markdown",
   "metadata": {},
   "source": [
    "## [5] Model 선정"
   ]
  },
  {
   "cell_type": "markdown",
   "metadata": {},
   "source": [
    "### 1) 회귀모델 : 종속변수가 연속형"
   ]
  },
  {
   "cell_type": "code",
   "execution_count": 67,
   "metadata": {},
   "outputs": [],
   "source": [
    "from sklearn.linear_model import LogisticRegression  \n",
    "from sklearn.ensemble import RandomForestRegressor\n",
    "from sklearn.ensemble import GradientBoostingRegressor\n",
    "from sklearn.tree import DecisionTreeRegressor\n",
    "from xgboost import XGBRegressor\n",
    "from sklearn.svm import SVR\n",
    "\n",
    "# 1) 모든 회귀 모델 함수 정의\n",
    "LR = LogisticRegression(random_state=42)\n",
    "RF = RandomForestRegressor(random_state=42)\n",
    "GVR = GradientBoostingRegressor(random_state=42)\n",
    "DT = DecisionTreeRegressor(random_state=42)\n",
    "XGBR = XGBRegressor(random_state=42)\n",
    "SVR = SVR()\n",
    "\n",
    "\n",
    "# 2) 모델 피팅\n",
    "model = model.fit(X_train,y_train)\n",
    "predict = model.predict(X_test)"
   ]
  },
  {
   "cell_type": "code",
   "execution_count": null,
   "metadata": {},
   "outputs": [],
   "source": [
    "# 3) 모델 성능평가 : MSE(평균제곱오차), RMSE, MAE, MAPE\n",
    "## MAE(낮을 수록 정확)\n",
    "from sklearn.metrics import mean_absolute_error\n",
    "mean_absolute_error(y_test,predict)\n",
    "\n",
    "## MSE / RMSE (낮을 수록 정확) \n",
    "from sklearn.metrics import mean_squared_error\n",
    "MSE = mean_squared_error(y_test, predict)\n",
    "RMSE = np.sqrt(mean_squared_error(y_test, predict)) \n",
    "\n",
    "## 데이터셋 평가\n",
    "model.score(X_train, y_train)\n",
    "model.score(X_test, y_test)"
   ]
  },
  {
   "cell_type": "markdown",
   "metadata": {},
   "source": [
    "### 2) 분류모델 : 종속변수가 범주형"
   ]
  },
  {
   "cell_type": "code",
   "execution_count": 66,
   "metadata": {},
   "outputs": [],
   "source": [
    "from sklearn.linear_model import LogisticRegression\n",
    "from sklearn.ensemble import RandomForestClassifier\n",
    "from sklearn.ensemble import GradientBoostingClassifier\n",
    "from sklearn.neighbors import KNeighborsClassifier\n",
    "from sklearn.tree import DecisionTreeClassifier\n",
    "from sklearn.svm import SVC\n",
    "from xgboost import XGBClassifier, XGBRFClassifier\n",
    "\n",
    "\n",
    "# 1) 모든 분류 모델 함수 정의\n",
    "LR = LogisticRegression(random_state=42)\n",
    "RF = RandomForestClassifier(random_state=42)`\n",
    "GB = GradientBoostingClassifier(random_state=42)\n",
    "KNN = KNeighborsClassifier()\n",
    "DT = DecisionTreeClassifier(random_state=42)\n",
    "XGB = XGBClassifier(random_state=42)\n",
    "XGBR = XGBRFClassifier(random_state=42)\n",
    "SVC = SVC()\n",
    "\n",
    "\n",
    "# 2) 모델 피팅\n",
    "model = model.fit(X_train,y_train)\n",
    "predict = model.predict(X_test)"
   ]
  },
  {
   "cell_type": "code",
   "execution_count": null,
   "metadata": {},
   "outputs": [],
   "source": [
    "# 3) 모델 성능평가 : confusion matrix, 정확도, 정밀도, 재현율, F1-score, ROC-AUC\n",
    "## Confusion matrix \n",
    "from sklearn.metrics import confusion_matrix, classification_report\n",
    "\n",
    "cm = confusion_matrix(y_true, predict)\n",
    "acc = accuracy_score(y_true, predict)  # 정확도\n",
    "pre = precision_score(y_true, predict)  # 정밀도\n",
    "recall = recall_score(y_true, predict)  # 재현율\n",
    "\n",
    "# F1_score\n",
    "F1_score = f1_score(y_true, y_pred)\n",
    "F1_score = 2*((pre *reall)/(pre + reall))\n",
    "\n",
    "\n",
    "## ROC-AUC\n",
    "from sklearn.metrics import roc_auc_score\n",
    "roc_auc_score(y_true, predict)"
   ]
  },
  {
   "cell_type": "markdown",
   "metadata": {},
   "source": [
    "--------------------------------------------------------------------"
   ]
  },
  {
   "cell_type": "code",
   "execution_count": null,
   "metadata": {},
   "outputs": [],
   "source": [
    "RandomForestRegressor(n_estimators=10, bootstrap=True, criterion='mse', max_depth=None, min_samples_split=2)\n",
    "    #  n_estimators :  생성할 트리 개수\n",
    "    #  bootstrap :  True 베깅, False 페이스팅\n",
    "    #  criterion : 분할 평가 척도\n",
    "\n",
    "# fit model\n",
    "model = model.fit(X_train, y_train)\n",
    "pred = model.predict(X_test)"
   ]
  },
  {
   "cell_type": "code",
   "execution_count": null,
   "metadata": {},
   "outputs": [],
   "source": [
    "model = DecisionTreeRegressor(min_samples_split = 2)\n",
    "    # n_estimators : 생성할 트리 개수\n",
    "    # criterion = 부할 성능 측정 지표 ('gini, 'entropy')\n",
    "    # splitter = 노드에서 분할을 선택하는 방법\n",
    "    # min_samples_split : 노드 분할을 위한 최소 샘플 데이터 수(클수록 과적합 제어)\n",
    "    # max_features : 최적 분할을 위해 고려할 feature 개수\n",
    "    # max_depth : 트리 최대깊이(클수록 과적합 위험)\n",
    "\n",
    "# fit model\n",
    "model = model.fit(X_train, y_train)\n",
    "model.predict(X_test)\n",
    "\n",
    "# 평가\n",
    "R-sqaured = model.score(xtrain, ytrain)\n",
    "\n",
    "# 방안2) 파라미터 최적화를 적용한 모델링\n",
    "params = {\n",
    "    'n_estimatiors' : (100,200),\n",
    "    'max_depth' : (5, 8),\n",
    "    'min_samples_leaf' : (8, 18),\n",
    "    'min_samp;es_split' : (8. 16)\n",
    "}\n",
    "grid_cv = GridSearchCV(moel, params, cv = 2,  n_jobs=-1)\n",
    "model_grid_cv = grid_cv.fit(X_train, y_train)\n",
    "model_grid_cv.predict(X_test)\n",
    "\n",
    "# 평가\n",
    "model_grid_cv.best_params_  # 최적 파라미터 조합\n",
    "model_grid_cv.best_score_   # 최적 예측 정확도\n",
    "model_grid_cv.feature_importances_  # 변수중요도"
   ]
  }
 ],
 "metadata": {
  "kernelspec": {
   "display_name": "Python 3",
   "language": "python",
   "name": "python3"
  },
  "language_info": {
   "codemirror_mode": {
    "name": "ipython",
    "version": 3
   },
   "file_extension": ".py",
   "mimetype": "text/x-python",
   "name": "python",
   "nbconvert_exporter": "python",
   "pygments_lexer": "ipython3",
   "version": "3.8.5"
  }
 },
 "nbformat": 4,
 "nbformat_minor": 4
}
